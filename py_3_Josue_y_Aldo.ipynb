{
  "nbformat": 4,
  "nbformat_minor": 0,
  "metadata": {
    "colab": {
      "provenance": [],
      "authorship_tag": "ABX9TyMm+qjyF5y2gRIoFWqMhPYF",
      "include_colab_link": true
    },
    "kernelspec": {
      "name": "python3",
      "display_name": "Python 3"
    },
    "language_info": {
      "name": "python"
    }
  },
  "cells": [
    {
      "cell_type": "markdown",
      "metadata": {
        "id": "view-in-github",
        "colab_type": "text"
      },
      "source": [
        "<a href=\"https://colab.research.google.com/github/JosueSandovalZT/py---3---Josu-y-Aldo-/blob/main/py_3_Josue_y_Aldo.ipynb\" target=\"_parent\"><img src=\"https://colab.research.google.com/assets/colab-badge.svg\" alt=\"Open In Colab\"/></a>"
      ]
    },
    {
      "cell_type": "markdown",
      "source": [
        "##JuevesLab en accion\n",
        "\n",
        "####Integrantes:\n",
        "#####Josué Zabdiel Sandoval Tinoco\n",
        "#####Aldo Ivan Martinez Castro"
      ],
      "metadata": {
        "id": "p1oDdQEuNHvl"
      }
    },
    {
      "cell_type": "markdown",
      "source": [
        "###Listas"
      ],
      "metadata": {
        "id": "EoZxv37DPnSK"
      }
    },
    {
      "cell_type": "code",
      "source": [
        "# 1. Crear la Lista\n",
        "# Las listas son colecciones ordenadas y mutables de elementos\n",
        "print(\"--- Creación de la Lista ---\")\n",
        "nombres = [\"Josué\", \"Aldo\", \"Braulio\"]\n",
        "print(f\"La lista inicial es: {nombres}\")\n",
        "\n",
        "# 2. Agregar elementos a la Lista\n",
        "# Usamos .append() para agregar un solo elemento al final\n",
        "nombres.append(\"Carlos\")\n",
        "print(f\"Lista después de agregar a 'Carlos': {nombres}\")\n",
        "\n",
        "# Usamos .insert() para agregar en una posición específica\n",
        "nombres.insert(1, \"Mihael\")\n",
        "print(f\"Lista después de insertar 'Mihael' en posición 1: {nombres}\")\n",
        "print(\"-\" * 25)\n",
        "\n",
        "# 3. Borrar elementos de la Lista\n",
        "# Usamos .remove() para eliminar la primera ocurrencia de un elemento\n",
        "try:\n",
        "    nombres.remove(\"Aldo\")\n",
        "    print(f\"Lista después de eliminar a 'Aldo': {nombres}\")\n",
        "except ValueError:\n",
        "    print(\"El elemento 'Aldo' no se encontró en la lista.\")\n",
        "\n",
        "# Usamos .pop() para eliminar un elemento por índice (sin índice elimina el último)\n",
        "elemento_borrado = nombres.pop(0)\n",
        "print(f\"Lista después de eliminar el primer elemento ({elemento_borrado}): {nombres}\")\n",
        "\n",
        "# Usamos .clear() para vaciar toda la lista\n",
        "# nombres.clear()\n",
        "# print(f\"Lista después de borrar todos los elementos: {nombres}\")\n",
        "print(\"-\" * 25)\n",
        "\n",
        "# 4. Manipular Listas\n",
        "# Creamos una segunda lista para demostrar operaciones\n",
        "grupo2 = [\"Braulio\", \"Carlos\", \"David\"]\n",
        "print(f\"La lista original es: {nombres}\")\n",
        "print(f\"La segunda lista es: {grupo2}\")\n",
        "\n",
        "# Concatenación: Combina ambas listas\n",
        "lista_combinada = nombres + grupo2\n",
        "print(f\"Concatenación de ambas listas: {lista_combinada}\")\n",
        "\n",
        "# Intersección: Elementos que están en ambas listas\n",
        "interseccion = [item for item in nombres if item in grupo2]\n",
        "print(f\"Intersección de ambas listas: {interseccion}\")\n",
        "\n",
        "# Ordenar la lista\n",
        "nombres.sort()\n",
        "print(f\"Lista ordenada alfabéticamente: {nombres}\")\n",
        "\n",
        "# Revertir el orden\n",
        "nombres.reverse()\n",
        "print(f\"Lista en orden inverso: {nombres}\")\n",
        "print(\"-\" * 25)\n",
        "\n",
        "# 5. Recorrer la Lista\n",
        "print(\"--- Recorriendo la Lista ---\")\n",
        "# Recorrido por elemento\n",
        "print(\"Recorrido por elemento:\")\n",
        "for nombre in nombres:\n",
        "    print(nombre)\n",
        "\n",
        "# Recorrido por índice y elemento\n",
        "print(\"\\nRecorrido por índice y elemento:\")\n",
        "for i, nombre in enumerate(nombres):\n",
        "    print(f\"Índice {i}: {nombre}\")"
      ],
      "metadata": {
        "colab": {
          "base_uri": "https://localhost:8080/"
        },
        "id": "jTjtMfDB4src",
        "outputId": "3ba2d812-49c1-4502-c5e3-c6473af37337"
      },
      "execution_count": 6,
      "outputs": [
        {
          "output_type": "stream",
          "name": "stdout",
          "text": [
            "--- Creación de la Lista ---\n",
            "La lista inicial es: ['Josué', 'Aldo', 'Braulio']\n",
            "Lista después de agregar a 'Carlos': ['Josué', 'Aldo', 'Braulio', 'Carlos']\n",
            "Lista después de insertar 'Mihael' en posición 1: ['Josué', 'Mihael', 'Aldo', 'Braulio', 'Carlos']\n",
            "-------------------------\n",
            "Lista después de eliminar a 'Aldo': ['Josué', 'Mihael', 'Braulio', 'Carlos']\n",
            "Lista después de eliminar el primer elemento (Josué): ['Mihael', 'Braulio', 'Carlos']\n",
            "-------------------------\n",
            "La lista original es: ['Mihael', 'Braulio', 'Carlos']\n",
            "La segunda lista es: ['Braulio', 'Carlos', 'David']\n",
            "Concatenación de ambas listas: ['Mihael', 'Braulio', 'Carlos', 'Braulio', 'Carlos', 'David']\n",
            "Intersección de ambas listas: ['Braulio', 'Carlos']\n",
            "Lista ordenada alfabéticamente: ['Braulio', 'Carlos', 'Mihael']\n",
            "Lista en orden inverso: ['Mihael', 'Carlos', 'Braulio']\n",
            "-------------------------\n",
            "--- Recorriendo la Lista ---\n",
            "Recorrido por elemento:\n",
            "Mihael\n",
            "Carlos\n",
            "Braulio\n",
            "\n",
            "Recorrido por índice y elemento:\n",
            "Índice 0: Mihael\n",
            "Índice 1: Carlos\n",
            "Índice 2: Braulio\n"
          ]
        }
      ]
    },
    {
      "cell_type": "markdown",
      "source": [
        "###Set"
      ],
      "metadata": {
        "id": "mfnKgSymbcbm"
      }
    },
    {
      "cell_type": "code",
      "source": [
        "# 1. Crear el Set\n",
        "# Se crea un set llamado 'nombres' con los nombres de Josué, Aldo y Braulio.\n",
        "# Los sets son colecciones desordenadas de elementos únicos.\n",
        "print(\"--- Creación del Set ---\")\n",
        "nombres = {\"Josué\", \"Aldo\", \"Braulio\"}\n",
        "print(f\"El set inicial es: {nombres}\")\n",
        "\n",
        "# 2. Agregar elementos al Set\n",
        "# Usamos .add() para agregar un solo elemento.\n",
        "nombres.add(\"Carlos\")\n",
        "print(f\"Set después de agregar a 'Carlos': {nombres}\")\n",
        "\n",
        "# Usamos .update() para agregar múltiples elementos de una lista o tupla.\n",
        "nombres.update([\"carlos\", \"mihael\"])\n",
        "print(f\"Set después de agregar a 'Daniel' y 'Erick': {nombres}\")\n",
        "print(\"-\" * 25)\n",
        "\n",
        "# 3. Borrar elementos del Set\n",
        "# Usamos .discard() para eliminar un elemento sin generar un error si no existe.\n",
        "nombres.discard(\"Aldo\")\n",
        "print(f\"Set después de eliminar a 'Aldo': {nombres}\")\n",
        "\n",
        "# Usamos .remove() para eliminar un elemento. Esto generará un error si el elemento no se encuentra.\n",
        "try:\n",
        "    nombres.remove(\"Josué\")\n",
        "    print(f\"Set después de eliminar a 'Josué': {nombres}\")\n",
        "except KeyError:\n",
        "    print(\"El elemento 'Josué' no se encontró en el set.\")\n",
        "\n",
        "# Usamos .clear() para vaciar todo el set.\n",
        "# nombres.clear()\n",
        "# print(f\"Set después de borrar todos los elementos: {nombres}\")\n",
        "print(\"-\" * 25)\n",
        "\n",
        "# 4. Manipular Sets\n",
        "# Creamos un segundo set para demostrar operaciones de manipulación.\n",
        "grupo2 = {\"Braulio\", \"Carlos\", \"David\"}\n",
        "print(f\"El set original es: {nombres}\")\n",
        "print(f\"El segundo set es: {grupo2}\")\n",
        "\n",
        "# Unión: Combina todos los elementos de ambos sets.\n",
        "union_sets = nombres.union(grupo2)\n",
        "print(f\"Unión de ambos sets: {union_sets}\")\n",
        "\n",
        "# Intersección: Devuelve los elementos que están en ambos sets.\n",
        "interseccion_sets = nombres.intersection(grupo2)\n",
        "print(f\"Intersección de ambos sets: {interseccion_sets}\")\n",
        "print(\"-\" * 25)\n",
        "\n",
        "# 5. Recorrer el Set\n",
        "# Recorremos el set usando un bucle 'for'.\n",
        "# El orden de los elementos al recorrerlos no es fijo.\n",
        "print(\"--- Recorriendo el Set ---\")\n",
        "for nombre in nombres:\n",
        "    print(nombre)"
      ],
      "metadata": {
        "colab": {
          "base_uri": "https://localhost:8080/"
        },
        "id": "RbbbJg-6p82f",
        "outputId": "4a1da196-cbfe-4c61-a61e-cfd67d35984a"
      },
      "execution_count": 7,
      "outputs": [
        {
          "output_type": "stream",
          "name": "stdout",
          "text": [
            "--- Creación del Set ---\n",
            "El set inicial es: {'Aldo', 'Josué', 'Braulio'}\n",
            "Set después de agregar a 'Carlos': {'Carlos', 'Aldo', 'Josué', 'Braulio'}\n",
            "Set después de agregar a 'Daniel' y 'Erick': {'mihael', 'Josué', 'Braulio', 'carlos', 'Carlos', 'Aldo'}\n",
            "-------------------------\n",
            "Set después de eliminar a 'Aldo': {'mihael', 'Josué', 'Braulio', 'carlos', 'Carlos'}\n",
            "Set después de eliminar a 'Josué': {'mihael', 'Braulio', 'carlos', 'Carlos'}\n",
            "-------------------------\n",
            "El set original es: {'mihael', 'Braulio', 'carlos', 'Carlos'}\n",
            "El segundo set es: {'David', 'Carlos', 'Braulio'}\n",
            "Unión de ambos sets: {'mihael', 'Carlos', 'David', 'Braulio', 'carlos'}\n",
            "Intersección de ambos sets: {'Carlos', 'Braulio'}\n",
            "-------------------------\n",
            "--- Recorriendo el Set ---\n",
            "mihael\n",
            "Braulio\n",
            "carlos\n",
            "Carlos\n"
          ]
        }
      ]
    },
    {
      "cell_type": "markdown",
      "source": [
        "###Tuplas"
      ],
      "metadata": {
        "id": "gaiJ2KEIcnFm"
      }
    },
    {
      "cell_type": "code",
      "source": [
        "# 1. Crear la Tupla\n",
        "# Las tuplas son colecciones ordenadas e inmutables de elementos\n",
        "print(\"--- Creación de la Tupla ---\")\n",
        "nombres = (\"Josué\", \"Aldo\", \"Braulio\")\n",
        "print(f\"La tupla inicial es: {nombres}\")\n",
        "\n",
        "# 2. Agregar elementos a la Tupla\n",
        "# Las tuplas son inmutables, por lo que no se pueden agregar elementos directamente\n",
        "# Para \"agregar\" elementos, creamos una nueva tupla\n",
        "nombres = nombres + (\"Carlos\",)\n",
        "print(f\"Tupla después de 'agregar' a 'Carlos': {nombres}\")\n",
        "\n",
        "# Agregar múltiples elementos\n",
        "nombres = nombres + (\"Daniel\", \"Erick\")\n",
        "print(f\"Tupla después de 'agregar' a 'Daniel' y 'Erick': {nombres}\")\n",
        "print(\"-\" * 25)\n",
        "\n",
        "# 3. Borrar elementos de la Tupla\n",
        "# Las tuplas son inmutables, por lo que no se pueden eliminar elementos individualmente\n",
        "# Para \"eliminar\" elementos, creamos una nueva tupla sin los elementos no deseados\n",
        "try:\n",
        "    # Convertimos a lista temporalmente para eliminar, luego volvemos a tupla\n",
        "    lista_temp = list(nombres)\n",
        "    lista_temp.remove(\"Aldo\")\n",
        "    nombres = tuple(lista_temp)\n",
        "    print(f\"Tupla después de 'eliminar' a 'Aldo': {nombres}\")\n",
        "except ValueError:\n",
        "    print(\"El elemento 'Aldo' no se encontró en la tupla.\")\n",
        "\n",
        "# Eliminar completamente la tupla\n",
        "# del nombres\n",
        "# print(\"Tupla eliminada completamente\")\n",
        "print(\"-\" * 25)\n",
        "\n",
        "# 4. Manipular Tuplas\n",
        "# Creamos una segunda tupla para demostrar operaciones\n",
        "grupo2 = (\"Braulio\", \"Carlos\", \"David\")\n",
        "print(f\"La tupla original es: {nombres}\")\n",
        "print(f\"La segunda tupla es: {grupo2}\")\n",
        "\n",
        "# Concatenación: Combina ambas tuplas\n",
        "tupla_combinada = nombres + grupo2\n",
        "print(f\"Concatenación de ambas tuplas: {tupla_combinada}\")\n",
        "\n",
        "# 5. Recorrer la Tupla\n",
        "print(\"--- Recorriendo la Tupla ---\")\n",
        "# Recorrido por elemento\n",
        "print(\"Recorrido por elemento:\")\n",
        "for nombre in nombres:\n",
        "    print(nombre)"
      ],
      "metadata": {
        "colab": {
          "base_uri": "https://localhost:8080/"
        },
        "id": "kahVYJJtseeV",
        "outputId": "a5225aff-9c06-468e-9914-39207985fb44"
      },
      "execution_count": 8,
      "outputs": [
        {
          "output_type": "stream",
          "name": "stdout",
          "text": [
            "--- Creación de la Tupla ---\n",
            "La tupla inicial es: ('Josué', 'Aldo', 'Braulio')\n",
            "Tupla después de 'agregar' a 'Carlos': ('Josué', 'Aldo', 'Braulio', 'Carlos')\n",
            "Tupla después de 'agregar' a 'Daniel' y 'Erick': ('Josué', 'Aldo', 'Braulio', 'Carlos', 'Daniel', 'Erick')\n",
            "-------------------------\n",
            "Tupla después de 'eliminar' a 'Aldo': ('Josué', 'Braulio', 'Carlos', 'Daniel', 'Erick')\n",
            "-------------------------\n",
            "La tupla original es: ('Josué', 'Braulio', 'Carlos', 'Daniel', 'Erick')\n",
            "La segunda tupla es: ('Braulio', 'Carlos', 'David')\n",
            "Concatenación de ambas tuplas: ('Josué', 'Braulio', 'Carlos', 'Daniel', 'Erick', 'Braulio', 'Carlos', 'David')\n",
            "--- Recorriendo la Tupla ---\n",
            "Recorrido por elemento:\n",
            "Josué\n",
            "Braulio\n",
            "Carlos\n",
            "Daniel\n",
            "Erick\n"
          ]
        }
      ]
    },
    {
      "cell_type": "code",
      "source": [
        "# 1. Crear un Diccionario\n",
        "# Un diccionario es una colección de pares clave-valor.\n",
        "# La clave es única y se usa para acceder a su valor asociado.\n",
        "print(\"--- Creación del Diccionario ---\")\n",
        "mi_diccionario = {\n",
        "    \"nombre\": \"Josué\",\n",
        "    \"edad\": 18,\n",
        "    \"ciudad\": \"peruxd\"\n",
        "}\n",
        "print(\"El diccionario inicial es: {mi_diccionario}\")\n",
        "print(\"-\" * 18)\n",
        "\n",
        "# 2. Agregar elementos al Diccionario\n",
        "# Puedes agregar un nuevo par clave-valor simplemente asignando un valor a una nueva clave.\n",
        "mi_diccionario[\"profesion\"] = \"Ingeniero IA\"\n",
        "print(f\"Diccionario después de agregar 'profesion': {mi_diccionario}\")\n",
        "\n",
        "# Si la clave ya existe, el valor se actualizará.\n",
        "mi_diccionario[\"edad\"] = 18\n",
        "print(f\"Diccionario después de actualizar la 'edad': {mi_diccionario}\")\n",
        "print(\"-\" * 25)\n",
        "\n",
        "# 3. Borrar elementos del Diccionario\n",
        "\n",
        "# El método .pop() elimina una clave y devuelve su valor.\n",
        "valor_eliminado = mi_diccionario.pop(\"profesion\")\n",
        "print(f\"El valor '{valor_eliminado}' ha sido eliminado.\")\n",
        "print(f\"Diccionario después de usar .pop(): {mi_diccionario}\")\n",
        "\n",
        "# El método .clear() borra todos los elementos del diccionario.\n",
        "# mi_diccionario.clear()\n",
        "# print(f\"Diccionario después de borrar todo: {mi_diccionario}\")\n",
        "print(\"-\" * 18)\n",
        "\n",
        "# 4. Manipular el Diccionario\n",
        "# Se puede manipular un diccionario accediendo a sus claves, valores o ambos.\n",
        "print(\"--- Manipulación del Diccionario ---\")\n",
        "claves = mi_diccionario.keys()\n",
        "valores = mi_diccionario.values()\n",
        "items = mi_diccionario.items()\n",
        "\n",
        "print(f\"Claves del diccionario: {list(claves)}\")\n",
        "print(f\"Valores del diccionario: {list(valores)}\")\n",
        "print(f\"Pares clave-valor (items): {list(items)}\")\n",
        "print(\"-\" * 18)\n",
        "\n",
        "# 5. Recorrer el Diccionario\n",
        "# Se puede recorrer un diccionario de varias maneras.\n",
        "print(\"--- Recorriendo el Diccionario ---\")\n",
        "\n",
        "# Recorrer las claves (es el método por defecto).\n",
        "print(\"Recorriendo las claves:\")\n",
        "for clave in mi_diccionario:\n",
        "    print(clave)\n",
        "\n",
        "# Recorrer los valores.\n",
        "print(\"\\nRecorriendo los valores:\")\n",
        "for valor in mi_diccionario.values():\n",
        "    print(valor)\n",
        "\n",
        "# Recorrer los pares clave-valor.\n",
        "print(\"\\nRecorriendo los items (pares clave-valor):\")\n",
        "for clave, valor in mi_diccionario.items():\n",
        "    print(f\"Clave: {clave}, Valor: {valor}\")"
      ],
      "metadata": {
        "colab": {
          "base_uri": "https://localhost:8080/"
        },
        "id": "6yHwzAcKse52",
        "outputId": "8cef1c11-7565-49b3-ec6e-72f8a2de52db"
      },
      "execution_count": 9,
      "outputs": [
        {
          "output_type": "stream",
          "name": "stdout",
          "text": [
            "--- Creación del Diccionario ---\n",
            "El diccionario inicial es: {mi_diccionario}\n",
            "------------------\n",
            "Diccionario después de agregar 'profesion': {'nombre': 'Josué', 'edad': 18, 'ciudad': 'peruxd', 'profesion': 'Ingeniero IA'}\n",
            "Diccionario después de actualizar la 'edad': {'nombre': 'Josué', 'edad': 18, 'ciudad': 'peruxd', 'profesion': 'Ingeniero IA'}\n",
            "-------------------------\n",
            "El valor 'Ingeniero IA' ha sido eliminado.\n",
            "Diccionario después de usar .pop(): {'nombre': 'Josué', 'edad': 18, 'ciudad': 'peruxd'}\n",
            "------------------\n",
            "--- Manipulación del Diccionario ---\n",
            "Claves del diccionario: ['nombre', 'edad', 'ciudad']\n",
            "Valores del diccionario: ['Josué', 18, 'peruxd']\n",
            "Pares clave-valor (items): [('nombre', 'Josué'), ('edad', 18), ('ciudad', 'peruxd')]\n",
            "------------------\n",
            "--- Recorriendo el Diccionario ---\n",
            "Recorriendo las claves:\n",
            "nombre\n",
            "edad\n",
            "ciudad\n",
            "\n",
            "Recorriendo los valores:\n",
            "Josué\n",
            "18\n",
            "peruxd\n",
            "\n",
            "Recorriendo los items (pares clave-valor):\n",
            "Clave: nombre, Valor: Josué\n",
            "Clave: edad, Valor: 18\n",
            "Clave: ciudad, Valor: peruxd\n"
          ]
        }
      ]
    }
  ]
}